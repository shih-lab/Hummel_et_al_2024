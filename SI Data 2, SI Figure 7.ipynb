{
 "cells": [
  {
   "cell_type": "code",
   "execution_count": 139,
   "id": "0124d4fb-d5ac-4d74-9700-4009d4adf1b7",
   "metadata": {},
   "outputs": [],
   "source": [
    "import numpy as np\n",
    "import pandas as pd\n",
    "import matplotlib.pyplot as plt\n",
    "import seaborn as sns\n",
    "import scipy\n",
    "import random\n",
    "import math\n",
    "from scipy.stats import ttest_ind\n",
    "from Bio import SeqIO\n",
    "from Bio.Seq import Seq\n",
    "from Bio.SeqUtils.ProtParam import ProteinAnalysis as Prot\n",
    "from Bio.SeqUtils.IsoelectricPoint import IsoelectricPoint as IP"
   ]
  },
  {
   "cell_type": "code",
   "execution_count": 147,
   "id": "f6a9db0c-25fe-493a-a0c6-f5e0e1932689",
   "metadata": {},
   "outputs": [],
   "source": [
    "def character_pos(sequence,character):\n",
    "    s = sequence\n",
    "    c = character\n",
    "    positions = [pos for pos, char in enumerate(s) if char == c]\n",
    "    return(positions)"
   ]
  },
  {
   "cell_type": "code",
   "execution_count": 98,
   "id": "3f204c5d-7d02-40b0-8965-ad98bc99ba4b",
   "metadata": {},
   "outputs": [],
   "source": [
    "#Version with amount of sequences normalization\n",
    "def position_matrix(df,windowsize,character):\n",
    "    position_dict = {}\n",
    "    position_dict_norm = {}\n",
    "    length = 0\n",
    "    for candidate in df['protein']:\n",
    "        percentages = []\n",
    "        positions = character_pos(candidate,character)\n",
    "        length = length+len(positions)\n",
    "        for x in positions:\n",
    "            for i in range(1,windowsize+1): \n",
    "                if x-i < 0:\n",
    "                    continue\n",
    "                name = candidate[x-i] + '_'+str(i)\n",
    "                if name in position_dict:\n",
    "                    position_dict[name] += 1\n",
    "                else:\n",
    "                    position_dict[name] = 1\n",
    "            for t in range(1,windowsize+1):\n",
    "                if x+t >= len(candidate):\n",
    "                    continue\n",
    "                name = candidate[x+t] + '_'+str(t)\n",
    "                if name in position_dict:\n",
    "                    position_dict[name] += 1\n",
    "                else:\n",
    "                    position_dict[name] = 1\n",
    "    #Normalize position values by length of dataframe\n",
    "    for lel in position_dict:\n",
    "        position_dict_norm[lel] = position_dict[lel] / length\n",
    "    return(position_dict_norm,position_dict)"
   ]
  },
  {
   "cell_type": "code",
   "execution_count": 212,
   "id": "87f1a181-d147-498f-9cf0-462286e4ef80",
   "metadata": {},
   "outputs": [],
   "source": [
    "#Version with amino acid occurence normalization\n",
    "def position_matrix(df,windowsize,character,quartile):\n",
    "    position_dict = {}\n",
    "    position_dict_norm = {}\n",
    "    length = 0\n",
    "    for candidate in df['protein']:\n",
    "        percentages = []\n",
    "        positions = character_pos(candidate,character)\n",
    "        length = length+len(positions)\n",
    "        for x in positions:\n",
    "            for i in range(1,windowsize+1): \n",
    "                if x-i < 0:\n",
    "                    continue\n",
    "                name = candidate[x-i] + '_'+str(i)\n",
    "                if name in position_dict:\n",
    "                    position_dict[name] += 1\n",
    "                else:\n",
    "                    position_dict[name] = 1\n",
    "            for t in range(1,windowsize+1):\n",
    "                if x+t >= len(candidate):\n",
    "                    continue\n",
    "                name = candidate[x+t] + '_'+str(t)\n",
    "                if name in position_dict:\n",
    "                    position_dict[name] += 1\n",
    "                else:\n",
    "                    position_dict[name] = 1\n",
    "    #Normalize position values by length of dataframe\n",
    "    for lel in position_dict:\n",
    "        position_dict_norm[lel] = position_dict[lel] / (quartile[lel[:-2]])\n",
    "    return(position_dict_norm)"
   ]
  },
  {
   "cell_type": "code",
   "execution_count": 196,
   "id": "8984dd0a-b2d2-4073-a928-c7234bd94c2d",
   "metadata": {},
   "outputs": [],
   "source": [
    "#Version with amino acid occurence normalization\n",
    "def position_matrix(df,windowsize,character,quartile):\n",
    "    position_dict = {}\n",
    "    position_dict_norm = {}\n",
    "    length = 0\n",
    "    for candidate in df['protein']:\n",
    "        percentages = []\n",
    "        positions = character_pos(candidate,character)\n",
    "        length = length+len(positions)\n",
    "        for x in positions:\n",
    "            for i in range(1,windowsize+1): \n",
    "                if x-i < 0:\n",
    "                    continue\n",
    "                name = candidate[x-i] + '_'+str(i)\n",
    "                if name in position_dict:\n",
    "                    position_dict[name] += 1\n",
    "                else:\n",
    "                    position_dict[name] = 1\n",
    "            for t in range(1,windowsize+1):\n",
    "                if x+t >= len(candidate):\n",
    "                    continue\n",
    "                name = candidate[x+t] + '_'+str(t)\n",
    "                if name in position_dict:\n",
    "                    position_dict[name] += 1\n",
    "                else:\n",
    "                    position_dict[name] = 1\n",
    "    #Normalize position values by length of dataframe\n",
    "    for lel in position_dict:\n",
    "        position_dict_norm[lel] = position_dict[lel] /math.sqrt(quartile[lel[:-2]]*quartile[character])\n",
    "        break\n",
    "    return(position_dict_norm)"
   ]
  },
  {
   "cell_type": "markdown",
   "id": "a66d3e92-8210-47a4-9368-695c8b6ec414",
   "metadata": {},
   "source": [
    "# Quartile analysis"
   ]
  },
  {
   "cell_type": "code",
   "execution_count": 213,
   "id": "4e13646f-9007-4294-a2fa-aaab19ae0a60",
   "metadata": {},
   "outputs": [],
   "source": [
    "df = pd.read_excel('Tables/SI Table4.xlsx',skiprows=2)\n"
   ]
  },
  {
   "cell_type": "code",
   "execution_count": 214,
   "id": "6907cbde-e4a6-4acd-97ea-5a3e39d98a2a",
   "metadata": {},
   "outputs": [],
   "source": [
    "amino_acids = ['A', 'R', 'N', 'D', 'C', 'E', 'Q', 'G', 'H', 'I', 'L', 'K', 'M', 'F', 'P', 'S', 'T', 'W', 'Y', 'V']"
   ]
  },
  {
   "cell_type": "code",
   "execution_count": 215,
   "id": "abc10da8-399d-48a0-817a-4d2746a042a5",
   "metadata": {},
   "outputs": [],
   "source": [
    "raw_count=[]\n",
    "percentages = []\n",
    "for my_seq in df['protein']:\n",
    "    analysed_seq = Prot(my_seq)\n",
    "    percentages.append(analysed_seq.get_amino_acids_percent())\n",
    "    raw_count.append(analysed_seq.count_amino_acids())\n",
    "df_percentage = pd.DataFrame(percentages)\n",
    "df_raw_count = pd.DataFrame(raw_count)"
   ]
  },
  {
   "cell_type": "code",
   "execution_count": 216,
   "id": "401cb748-5350-4bf3-9767-1615eebfc79d",
   "metadata": {},
   "outputs": [],
   "source": [
    "df1_per = df_percentage[:20*4388]\n",
    "df2_per =df_percentage[20*4388:20*2*4388]\n",
    "df3_per =df_percentage[20*2*4388:20*3*4388]\n",
    "df4_per =df_percentage[20*3*4388:]\n",
    "df5_per = df_percentage[20*(-155):]"
   ]
  },
  {
   "cell_type": "code",
   "execution_count": 217,
   "id": "2a754147-d130-4319-a403-968a8bbf4eae",
   "metadata": {},
   "outputs": [],
   "source": [
    "sum_dict1 = df_raw_count[:4388].sum().to_dict()\n",
    "sum_dict2 = df_raw_count[4388:2*4388].sum().to_dict()\n",
    "sum_dict3 = df_raw_count[2*4388:3*4388].sum().to_dict()\n",
    "sum_dict4 = df_raw_count[3*4388:].sum().to_dict()\n"
   ]
  },
  {
   "cell_type": "code",
   "execution_count": 218,
   "id": "2b474e95-cb2f-4586-8205-a3d7e918bdd5",
   "metadata": {},
   "outputs": [],
   "source": [
    "df_plot = pd.concat([df1_per,df2_per,df3_per,df4_per])"
   ]
  },
  {
   "cell_type": "code",
   "execution_count": 219,
   "id": "68b6b94d-536c-4de8-82e1-e727e57c0737",
   "metadata": {},
   "outputs": [],
   "source": [
    "aminos = list(df_percentage.columns)\n",
    "change = []\n",
    "for x in df_plot.iterrows():\n",
    "    count=0\n",
    "    for z in x[1]:\n",
    "        change.append([z,aminos[count]])\n",
    "        count+=1"
   ]
  },
  {
   "cell_type": "code",
   "execution_count": 220,
   "id": "ff6500a9-151c-47a3-971b-156057633aa5",
   "metadata": {},
   "outputs": [],
   "source": [
    "df_plot1 = pd.DataFrame(change,columns=['Frequency','Amino'])"
   ]
  },
  {
   "cell_type": "code",
   "execution_count": 221,
   "id": "2c9664ec-9f95-44c8-9921-36854573fbc8",
   "metadata": {},
   "outputs": [],
   "source": [
    "df1_per = df_plot1[:20*4388]\n",
    "df2_per =df_plot1[20*4388:20*2*4388]\n",
    "df3_per =df_plot1[20*2*4388:20*3*4388]\n",
    "df4_per =df_plot1[20*3*4388:]"
   ]
  },
  {
   "cell_type": "code",
   "execution_count": 222,
   "id": "411b5985-4572-4906-bf25-2718f6824cb6",
   "metadata": {},
   "outputs": [
    {
     "name": "stderr",
     "output_type": "stream",
     "text": [
      "/var/folders/xb/cc3hd4q54k900w4vqym76dq00000gp/T/ipykernel_60112/1303841559.py:1: SettingWithCopyWarning: \n",
      "A value is trying to be set on a copy of a slice from a DataFrame.\n",
      "Try using .loc[row_indexer,col_indexer] = value instead\n",
      "\n",
      "See the caveats in the documentation: https://pandas.pydata.org/pandas-docs/stable/user_guide/indexing.html#returning-a-view-versus-a-copy\n",
      "  df1_per['Hue'] = '1st_q'\n",
      "/var/folders/xb/cc3hd4q54k900w4vqym76dq00000gp/T/ipykernel_60112/1303841559.py:2: SettingWithCopyWarning: \n",
      "A value is trying to be set on a copy of a slice from a DataFrame.\n",
      "Try using .loc[row_indexer,col_indexer] = value instead\n",
      "\n",
      "See the caveats in the documentation: https://pandas.pydata.org/pandas-docs/stable/user_guide/indexing.html#returning-a-view-versus-a-copy\n",
      "  df2_per['Hue'] = '2nd_q'\n",
      "/var/folders/xb/cc3hd4q54k900w4vqym76dq00000gp/T/ipykernel_60112/1303841559.py:3: SettingWithCopyWarning: \n",
      "A value is trying to be set on a copy of a slice from a DataFrame.\n",
      "Try using .loc[row_indexer,col_indexer] = value instead\n",
      "\n",
      "See the caveats in the documentation: https://pandas.pydata.org/pandas-docs/stable/user_guide/indexing.html#returning-a-view-versus-a-copy\n",
      "  df3_per['Hue'] = '3rd_q'\n",
      "/var/folders/xb/cc3hd4q54k900w4vqym76dq00000gp/T/ipykernel_60112/1303841559.py:4: SettingWithCopyWarning: \n",
      "A value is trying to be set on a copy of a slice from a DataFrame.\n",
      "Try using .loc[row_indexer,col_indexer] = value instead\n",
      "\n",
      "See the caveats in the documentation: https://pandas.pydata.org/pandas-docs/stable/user_guide/indexing.html#returning-a-view-versus-a-copy\n",
      "  df4_per['Hue'] = '4th_q'\n"
     ]
    }
   ],
   "source": [
    "df1_per['Hue'] = '1st_q'\n",
    "df2_per['Hue'] = '2nd_q'\n",
    "df3_per['Hue'] = '3rd_q'\n",
    "df4_per['Hue'] = '4th_q'"
   ]
  },
  {
   "cell_type": "code",
   "execution_count": 223,
   "id": "c90288a5-27cd-48cf-8249-5e5f520d97fb",
   "metadata": {},
   "outputs": [],
   "source": [
    "df1 = df[:4388]\n",
    "df2 =df[4388:2*4388]\n",
    "df3 =df[2*4388:3*4388]\n",
    "df4 =df[3*4388:]"
   ]
  },
  {
   "cell_type": "code",
   "execution_count": 224,
   "id": "a50183f3-7ecb-4105-bbc3-ce3bc9de8e49",
   "metadata": {},
   "outputs": [],
   "source": [
    "# Next three cells build position matrix for all tiles in first quartile, the code repeats for every quartile and runs quickly\n",
    "dataframes = {}\n",
    "df_names = []\n",
    "for x in amino_acids:\n",
    "    df_names.append(x+'_position1')\n",
    "for name in df_names:\n",
    "    dataframes[name] = position_matrix(df1,9,name[0],sum_dict1)"
   ]
  },
  {
   "cell_type": "code",
   "execution_count": 225,
   "id": "7614c898-37b6-49a4-925c-42909af6f740",
   "metadata": {},
   "outputs": [],
   "source": [
    "position_df = {}\n",
    "for key in dataframes.keys():\n",
    "    step1 = sorted(dataframes[key].items()) # sorted by key, return a list of tuples\n",
    "    position_df[key] = pd.DataFrame(step1,columns=['Aminoacid_pos','counts'])\n",
    "    position_df[key]['Hue'] = key[0]"
   ]
  },
  {
   "cell_type": "code",
   "execution_count": 226,
   "id": "abbafbf9-527e-48c6-88f1-74198e1d176e",
   "metadata": {},
   "outputs": [],
   "source": [
    "df_position_all1 = pd.concat(position_df.values())"
   ]
  },
  {
   "cell_type": "code",
   "execution_count": 227,
   "id": "6a2fe66d-ece6-4edb-9277-c8549d40cc10",
   "metadata": {},
   "outputs": [],
   "source": [
    "dataframes2 = {}\n",
    "df_names2 = []\n",
    "for x in amino_acids:\n",
    "    df_names2.append(x+'_position1')\n",
    "for name in df_names2:\n",
    "    dataframes2[name] = position_matrix(df2,9,name[0],sum_dict1)"
   ]
  },
  {
   "cell_type": "code",
   "execution_count": 228,
   "id": "87d5b5ae-862a-4f99-ab35-261e0cb1a5a5",
   "metadata": {},
   "outputs": [],
   "source": [
    "position_df2 = {}\n",
    "for key in dataframes2.keys():\n",
    "    step1 = sorted(dataframes2[key].items()) # sorted by key, return a list of tuples\n",
    "    position_df2[key] = pd.DataFrame(step1,columns=['Aminoacid_pos','counts'])\n",
    "    position_df2[key]['Hue'] = key[0]"
   ]
  },
  {
   "cell_type": "code",
   "execution_count": 229,
   "id": "a677ef68-75fc-419a-b587-20273da46862",
   "metadata": {},
   "outputs": [],
   "source": [
    "df_position_all2 = pd.concat(position_df2.values())"
   ]
  },
  {
   "cell_type": "code",
   "execution_count": 230,
   "id": "0bd3d565-239c-41b4-87b9-0d76cf63523c",
   "metadata": {},
   "outputs": [],
   "source": [
    "dataframes3 = {}\n",
    "df_names3 = []\n",
    "for x in amino_acids:\n",
    "    df_names3.append(x+'_position1')\n",
    "for name in df_names3:\n",
    "    dataframes3[name] = position_matrix(df3,9,name[0],sum_dict1)"
   ]
  },
  {
   "cell_type": "code",
   "execution_count": 231,
   "id": "1bff3ec9-0da2-4a62-ad9c-e12eff1cc3d1",
   "metadata": {},
   "outputs": [],
   "source": [
    "position_df3 = {}\n",
    "for key in dataframes3.keys():\n",
    "    step1 = sorted(dataframes3[key].items()) # sorted by key, return a list of tuples\n",
    "    position_df3[key] = pd.DataFrame(step1,columns=['Aminoacid_pos','counts'])\n",
    "    position_df3[key]['Hue'] = key[0]"
   ]
  },
  {
   "cell_type": "code",
   "execution_count": 232,
   "id": "e80a30e6-8be3-4167-a659-67875dd24005",
   "metadata": {},
   "outputs": [],
   "source": [
    "df_position_all3 = pd.concat(position_df3.values())"
   ]
  },
  {
   "cell_type": "code",
   "execution_count": 233,
   "id": "714de08b-04b6-4e28-9c76-689f53fd87ef",
   "metadata": {},
   "outputs": [],
   "source": [
    "dataframes4 = {}\n",
    "df_names4 = []\n",
    "for x in amino_acids:\n",
    "    df_names4.append(x+'_position1')\n",
    "for name in df_names4:\n",
    "    dataframes4[name] = position_matrix(df4,9,name[0],sum_dict1)"
   ]
  },
  {
   "cell_type": "code",
   "execution_count": 234,
   "id": "fcb1bfdb-4491-4ce7-92b4-22542c220372",
   "metadata": {},
   "outputs": [],
   "source": [
    "position_df4 = {}\n",
    "for key in dataframes4.keys():\n",
    "    step1 = sorted(dataframes4[key].items()) # sorted by key, return a list of tuples\n",
    "    position_df4[key] = pd.DataFrame(step1,columns=['Aminoacid_pos','counts'])\n",
    "    position_df4[key]['Hue'] = key[0]"
   ]
  },
  {
   "cell_type": "code",
   "execution_count": 235,
   "id": "40ad74b8-9389-48b8-abc6-ee8387590daf",
   "metadata": {},
   "outputs": [],
   "source": [
    "df_position_all4 = pd.concat(position_df4.values())"
   ]
  },
  {
   "cell_type": "code",
   "execution_count": 236,
   "id": "40082b11-b01b-4d76-9050-a40cbd3c42c2",
   "metadata": {},
   "outputs": [],
   "source": [
    "position_list =[['A_1','A_2','A_3','A_4','A_5','A_6','A_7','A_8','A_9'],\n",
    "['C_1','C_2','C_3','C_4','C_5','C_6','C_7','C_8','C_9'],\n",
    " ['D_1','D_2','D_3','D_4','D_5','D_6','D_7','D_8','D_9'],\n",
    " ['E_1','E_2','E_3','E_4','E_5','E_6','E_7','E_8','E_9'],\n",
    " ['F_1','F_2','F_3','F_4','F_5','F_6','F_7','F_8','F_9'],\n",
    " ['G_1','G_2','G_3','G_4','G_5','G_6','G_7','G_8','G_9'],\n",
    " ['H_1','H_2','H_3','H_4','H_5','H_6','H_7','H_8','H_9'],\n",
    " ['I_1','I_2','I_3','I_4','I_5','I_6','I_7','I_8','I_9'],\n",
    " ['K_1','K_2','K_3','K_4','K_5','K_6','K_7','K_8','K_9'],\n",
    " ['L_1','L_2','L_3','L_4','L_5','L_6','L_7','L_8','L_9'],\n",
    " ['M_1','M_2','M_3','M_4','M_5','M_6','M_7','M_8','M_9'],\n",
    " ['N_1','N_2','N_3','N_4','N_5','N_6','N_7','N_8','N_9'],\n",
    " ['P_1','P_2','P_3','P_4','P_5','P_6','P_7','P_8','P_9'],\n",
    " ['Q_1','Q_2','Q_3','Q_4','Q_5','Q_6','Q_7','Q_8','Q_9'],\n",
    " ['R_1','R_2','R_3','R_4','R_5','R_6','R_7','R_8','R_9'],\n",
    " ['S_1','S_2','S_3','S_4','S_5','S_6','S_7','S_8','S_9'],\n",
    " ['T_1','T_2','T_3','T_4','T_5','T_6','T_7','T_8','T_9'],\n",
    " ['V_1','V_2','V_3','V_4','V_5','V_6','V_7','V_8','V_9'],\n",
    " ['W_1','W_2','W_3','W_4','W_5','W_6','W_7','W_8','W_9'],\n",
    "['Y_1','Y_2','Y_3','Y_4','Y_5','Y_6','Y_7','Y_8','Y_9']]\n",
    "\n",
    "ylim_list2 = [[0.01,0.16],[0,0.10],[0.005,0.28],[0.05,0.3],[0.0,0.27],[0.025,0.25],[0.0,0.09],[0.02,0.19],[0.01,0.15],[0.025,0.3],[0.01,0.14],[0.03,0.17],[0.01,0.165],[0.015,0.125],[0.015,0.125],[0.025,0.25],[0.02,0.14],[0.02,0.2],[0,0.125],[0.015,0.15]]"
   ]
  },
  {
   "cell_type": "code",
   "execution_count": 238,
   "id": "8829c9a1-d241-4336-8798-ad8494b13d19",
   "metadata": {},
   "outputs": [
    {
     "name": "stderr",
     "output_type": "stream",
     "text": [
      "/var/folders/xb/cc3hd4q54k900w4vqym76dq00000gp/T/ipykernel_60112/3734531687.py:11: FutureWarning: In a future version of pandas all arguments of DataFrame.pivot will be keyword-only.\n",
      "  df_pivot = x.pivot('Aminoacid_pos', 'Hue', 'counts')\n",
      "/var/folders/xb/cc3hd4q54k900w4vqym76dq00000gp/T/ipykernel_60112/3734531687.py:11: FutureWarning: In a future version of pandas all arguments of DataFrame.pivot will be keyword-only.\n",
      "  df_pivot = x.pivot('Aminoacid_pos', 'Hue', 'counts')\n",
      "/var/folders/xb/cc3hd4q54k900w4vqym76dq00000gp/T/ipykernel_60112/3734531687.py:11: FutureWarning: In a future version of pandas all arguments of DataFrame.pivot will be keyword-only.\n",
      "  df_pivot = x.pivot('Aminoacid_pos', 'Hue', 'counts')\n",
      "/var/folders/xb/cc3hd4q54k900w4vqym76dq00000gp/T/ipykernel_60112/3734531687.py:11: FutureWarning: In a future version of pandas all arguments of DataFrame.pivot will be keyword-only.\n",
      "  df_pivot = x.pivot('Aminoacid_pos', 'Hue', 'counts')\n"
     ]
    },
    {
     "data": {
      "text/plain": [
       "<Figure size 640x480 with 0 Axes>"
      ]
     },
     "metadata": {},
     "output_type": "display_data"
    }
   ],
   "source": [
    "import os\n",
    "quartile = 1\n",
    "    # Define the figure size\n",
    "a4_dims = (5, 5)\n",
    "for x in [df_position_all1,df_position_all2,df_position_all3,df_position_all4]:\n",
    "    count = 0\n",
    "    \n",
    "    # Create a 'Figures' directory if it doesn't already exist\n",
    "    if not os.path.exists('Test'):\n",
    "        os.makedirs('Test')\n",
    "    df_pivot = x.pivot('Aminoacid_pos', 'Hue', 'counts')\n",
    "    # Loop over the slices of the dataframe that are multiples of 9\n",
    "    for i in range(0, len(df_pivot), 9):\n",
    "        # Select the slice of the dataframe\n",
    "        df_slice = df_pivot.iloc[i:i+9, :]\n",
    "\n",
    "        # Create the heatmap\n",
    "        plt.figure(figsize=(15,10))\n",
    "        g = sns.heatmap(df_slice,cmap='viridis',vmin=ylim_list2[count][0],vmax=ylim_list2[count][1])\n",
    "        #g = sns.heatmap(df_slice,cmap='viridis')\n",
    "        #g.set(ylim=(ylim_list[count][0],ylim_list[count][1]))\n",
    "        # Save the figure\n",
    "        plt.savefig(f'SI Data 2/new_norm1_heatmap_{i}_'+str(quartile)+'.pdf')\n",
    "        # Close the figure to avoid memory leaks\n",
    "        plt.close()\n",
    "        plt.clf()\n",
    "        count+=1\n",
    "    quartile +=1"
   ]
  }
 ],
 "metadata": {
  "kernelspec": {
   "display_name": "Python 3 (ipykernel)",
   "language": "python",
   "name": "python3"
  },
  "language_info": {
   "codemirror_mode": {
    "name": "ipython",
    "version": 3
   },
   "file_extension": ".py",
   "mimetype": "text/x-python",
   "name": "python",
   "nbconvert_exporter": "python",
   "pygments_lexer": "ipython3",
   "version": "3.9.5"
  }
 },
 "nbformat": 4,
 "nbformat_minor": 5
}
