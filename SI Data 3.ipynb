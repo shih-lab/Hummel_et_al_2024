{
 "cells": [
  {
   "cell_type": "code",
   "execution_count": 1,
   "id": "aeb718af-9a73-4688-adce-089fcc47e32f",
   "metadata": {},
   "outputs": [],
   "source": [
    "import numpy as np\n",
    "import pandas as pd\n",
    "import matplotlib.pyplot as plt\n",
    "import seaborn as sns"
   ]
  },
  {
   "cell_type": "code",
   "execution_count": 2,
   "id": "b70abc4a-913c-418e-aa70-c4e339de5fb5",
   "metadata": {},
   "outputs": [],
   "source": [
    "data = pd.read_excel('Tables/SI Table4.xlsx',skiprows=2)"
   ]
  },
  {
   "cell_type": "code",
   "execution_count": 5,
   "id": "04935ae7-691f-4af7-b7f6-44a0b3343c18",
   "metadata": {},
   "outputs": [],
   "source": [
    "for x in list(dict.fromkeys(data.Locus.to_list())):\n",
    "    sub = data[data.Locus==x]\n",
    "    sub = sub.sort_values(by='Position')\n",
    "    # Initialize variables to store the start and end indices of line segments\n",
    "    start_idx = 0\n",
    "    end_idx = 0\n",
    "\n",
    "    # Create a figure with two y-axes\n",
    "    plt.figure(figsize=(10, 6))\n",
    "    ax1 = plt.gca()\n",
    "    ax2 = ax1.twinx()\n",
    "\n",
    "    # Create a Seaborn lineplot with separate line segments for each gap\n",
    "    for i in range(1, len(sub)):\n",
    "        if sub['Position'].iloc[i] - sub['Position'].iloc[i - 1] != 1:\n",
    "            # Create a lineplot for the current segment on both y-axes\n",
    "            sns.lineplot(data=sub.iloc[start_idx:end_idx + 1], x='Position', y='log2_activity', color='red',ax=ax1)\n",
    "            sns.lineplot(data=sub.iloc[start_idx:end_idx + 1], x='Position', y='log2_pred_activity', color='blue', ax=ax2)\n",
    "            ax1.scatter(sub['Position'].iloc[start_idx:end_idx + 1], sub['log2_activity'].iloc[start_idx:end_idx + 1], color='red', s=40, label=None)\n",
    "            ax2.scatter(sub['Position'].iloc[start_idx:end_idx + 1], sub['log2_pred_activity'].iloc[start_idx:end_idx + 1], color='blue', s=40, label=None)\n",
    "        \n",
    "            # Update the start and end indices for the next segment\n",
    "            start_idx = i\n",
    "        end_idx = i\n",
    "\n",
    "    # Create the last lineplot (if needed) on both y-axes\n",
    "    if start_idx < len(sub):\n",
    "        sns.lineplot(data=sub.iloc[start_idx:], x='Position', y='log2_activity', color='red', ax=ax1)\n",
    "        sns.lineplot(data=sub.iloc[start_idx:], x='Position', y='log2_pred_activity', color='blue', ax=ax2)\n",
    "        ax1.scatter(sub['Position'].iloc[start_idx:end_idx + 1], sub['log2_activity'].iloc[start_idx:end_idx + 1], color='red', s=40, label=None)\n",
    "        ax2.scatter(sub['Position'].iloc[start_idx:end_idx + 1], sub['log2_pred_activity'].iloc[start_idx:end_idx + 1], color='blue', s=40, label=None)\n",
    "\n",
    "    # Set labels and title\n",
    "    ax1.set_ylabel('log2(Activity)[AU]', color='red')\n",
    "    ax2.set_ylabel('log2(predicted activity)[AU]', color='blue')\n",
    "    ax1.set_xlabel('Position')\n",
    "    plt.title(x)\n",
    "\n",
    "    # Show the plot\n",
    "    plt.savefig('SI Data 3/All_cand_positions/'+x+'.pdf')\n",
    "    plt.close()"
   ]
  },
  {
   "cell_type": "code",
   "execution_count": null,
   "id": "449ac14f-8f6c-46e9-a19c-fd7b896f2fd9",
   "metadata": {},
   "outputs": [],
   "source": []
  }
 ],
 "metadata": {
  "kernelspec": {
   "display_name": "Python 3 (ipykernel)",
   "language": "python",
   "name": "python3"
  },
  "language_info": {
   "codemirror_mode": {
    "name": "ipython",
    "version": 3
   },
   "file_extension": ".py",
   "mimetype": "text/x-python",
   "name": "python",
   "nbconvert_exporter": "python",
   "pygments_lexer": "ipython3",
   "version": "3.9.5"
  }
 },
 "nbformat": 4,
 "nbformat_minor": 5
}
